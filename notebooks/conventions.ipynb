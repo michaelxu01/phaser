{
 "cells": [
  {
   "cell_type": "markdown",
   "metadata": {},
   "source": [
    "# Conventions\n",
    "\n",
    "For consistency & clarity, we follow some general conventions for coordinate systems, units, and normalization. This notebook serves to document these conventions\n",
    "\n",
    "## Units\n",
    "\n",
    "The core ptychographic routines are unit-independent, so any units can be used. However, since this package is designed primarily for high-resolution electron ptychography, data is typically loaded and stored with length units of Angstrom ($1 \\:\\mathrm{\\AA} = 10^{-10} \\:\\mathrm{m}$). \n",
    "Other units typically follow SI base units.\n",
    "\n",
    "\n",
    "## Coordinate systems\n",
    "\n",
    "Images are stored row-major, starting with the top-left corner. Keeping with this, points are usually stored as `(y, x)` pairs.\n",
    "Raw data is changed to this convention on import.\n",
    "\n",
    "We use a right-handed coordinate system. Looking down the optic axis, the x-axis points right, the y-axis points down, and the z-axis points into the page (Forward propagation is the +z direction).\n",
    "\n",
    "In real-space, the origin is usually centered. In reciprocal space, the origin/zero-frequency point is at the top left corner.\n",
    "\n",
    "Data is stored so wavefield intensity is normalized in both spaces:\n",
    "\n",
    "$$\\begin{aligned}\n",
    "\\sum \\sum \\left| f(x, y) \\right|^2 &= 1 \\\\\n",
    "\\sum \\sum \\left| F(k_x, k_y) \\right|^2 &= 1\n",
    "\\end{aligned}$$\n",
    "\n",
    "This corresponds to the `norm='ortho'` convention in `numpy`. Note that wavefield amplitude is not normalized in either space.\n",
    "\n",
    "## Sign conventions\n",
    "\n",
    "Phase follows the convention where a plane wave is defined as $\\exp(2\\pi i (\\mathbf{k} \\cdot \\mathbf{r}))$. This is the most common convention, equivalent to defining the Fourier transform as $F(\\mathbf(k)) = \\int f(\\mathbf{r}) \\exp(-2\\pi i (\\mathbf{k} \\cdot \\mathbf{r}))$. However, older crystallography literature uses an opposite sign convention. See Spence and Zuo [1] for more information.\n",
    "\n",
    "[1] Spence, J. C.H. & Zuo, J. M. Electron Microdiffraction. (Plenum Press, New York, 1992).\n",
    "\n",
    "\n",
    "## Summary\n",
    "\n",
    "Together, these conventions mean that:\n",
    "\n",
    " - To FFT to reciprocal space: `F = fft2(ifftshift(f, axes=(-2, -1)), norm='ortho')`\n",
    " - To FFT to real space: `f = fftshift(ifft2(F, norm='ortho'), axes=(-2, -1))`\n",
    " - Reciprocal space data must by fftshifted for visualization"
   ]
  },
  {
   "cell_type": "markdown",
   "metadata": {},
   "source": [
    "## Variable naming"
   ]
  },
  {
   "cell_type": "markdown",
   "metadata": {},
   "source": [
    "Variables are named using `snake_case`, with very few abbreviations.\n",
    "A symbolic or letter variable name `chi`, `delta_P` is only suitable when documented by a comment naming it, usually with an equation.\n",
    "Exceptions are made for extremely common/mnemonic names (e.g. `yy`, `xx`, `fig`, `ax`, etc.)"
   ]
  },
  {
   "cell_type": "markdown",
   "metadata": {},
   "source": [
    "## Pixel conventions\n",
    "\n",
    "Pixels represent sampling points of a grid, [*Not* a little square](http://alvyray.com/Memos/CG/Microsoft/6_pixel.pdf). What matters for calculations is only the position of these sampling points, not the shape or area covered by each pixel.\n",
    "\n",
    "Nevertheless, pixels are often drawn as \"little squares\", requiring us to choose a convention of where to place these squares. We place each pixel at the center of the sampling point it represents. e.g. the pixel center is at integer coordinates."
   ]
  },
  {
   "cell_type": "markdown",
   "metadata": {},
   "source": [
    "# Notes for backend-agnostic coding\n",
    "\n",
    "Backends are libraries which support the Array API: https://data-apis.org/array-api/2024.12/\n",
    "\n",
    "https://github.com/pytorch/pytorch/issues/58743\n",
    "\n",
    "- Use `xp.size()` rather than `arr.size` (for Torch)\n",
    "- Use `at()` util for in-place modifications (for Jax)"
   ]
  },
  {
   "cell_type": "markdown",
   "metadata": {},
   "source": []
  }
 ],
 "metadata": {
  "language_info": {
   "name": "python"
  }
 },
 "nbformat": 4,
 "nbformat_minor": 2
}
